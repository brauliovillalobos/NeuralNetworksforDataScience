{
  "nbformat": 4,
  "nbformat_minor": 0,
  "metadata": {
    "colab": {
      "provenance": [],
      "collapsed_sections": []
    },
    "kernelspec": {
      "name": "python3",
      "display_name": "Python 3"
    },
    "language_info": {
      "name": "python"
    },
    "accelerator": "GPU"
  },
  "cells": [
    {
      "cell_type": "markdown",
      "source": [
        "# Neural Networks for Data Science Applications\n",
        "## Homework 1: Evaluating the calibration of a DL model\n",
        "\n",
        "**Name**: *Braulio Villalobos-Quiros*\n",
        "\n",
        "**Matricola**: *1999250*\n",
        "\n",
        "Upload the completed notebook **before 14/11/2022 at 23:59** on the Google Classroom page."
      ],
      "metadata": {
        "id": "BwfXT98e5hQc"
      }
    },
    {
      "cell_type": "code",
      "source": [
        "#pip install tensorflow-transform\n",
        "!pip install matplotlib --upgrade"
      ],
      "metadata": {
        "colab": {
          "base_uri": "https://localhost:8080/"
        },
        "id": "dgH8_AA8XOV6",
        "outputId": "f875abf6-87dd-404d-a20f-f4b4b4fda21e"
      },
      "execution_count": 1,
      "outputs": [
        {
          "output_type": "stream",
          "name": "stdout",
          "text": [
            "Looking in indexes: https://pypi.org/simple, https://us-python.pkg.dev/colab-wheels/public/simple/\n",
            "Requirement already satisfied: matplotlib in /usr/local/lib/python3.7/dist-packages (3.5.3)\n",
            "Requirement already satisfied: pyparsing>=2.2.1 in /usr/local/lib/python3.7/dist-packages (from matplotlib) (3.0.9)\n",
            "Requirement already satisfied: fonttools>=4.22.0 in /usr/local/lib/python3.7/dist-packages (from matplotlib) (4.38.0)\n",
            "Requirement already satisfied: numpy>=1.17 in /usr/local/lib/python3.7/dist-packages (from matplotlib) (1.21.6)\n",
            "Requirement already satisfied: packaging>=20.0 in /usr/local/lib/python3.7/dist-packages (from matplotlib) (21.3)\n",
            "Requirement already satisfied: pillow>=6.2.0 in /usr/local/lib/python3.7/dist-packages (from matplotlib) (7.1.2)\n",
            "Requirement already satisfied: python-dateutil>=2.7 in /usr/local/lib/python3.7/dist-packages (from matplotlib) (2.8.2)\n",
            "Requirement already satisfied: cycler>=0.10 in /usr/local/lib/python3.7/dist-packages (from matplotlib) (0.11.0)\n",
            "Requirement already satisfied: kiwisolver>=1.0.1 in /usr/local/lib/python3.7/dist-packages (from matplotlib) (1.4.4)\n",
            "Requirement already satisfied: typing-extensions in /usr/local/lib/python3.7/dist-packages (from kiwisolver>=1.0.1->matplotlib) (4.1.1)\n",
            "Requirement already satisfied: six>=1.5 in /usr/local/lib/python3.7/dist-packages (from python-dateutil>=2.7->matplotlib) (1.15.0)\n"
          ]
        }
      ]
    },
    {
      "cell_type": "code",
      "execution_count": 2,
      "metadata": {
        "id": "5V6Ph3UT44Xo"
      },
      "outputs": [],
      "source": [
        "import tensorflow as tf\n",
        "import matplotlib.pyplot as plt\n",
        "import numpy as np\n",
        "from tensorflow import keras\n",
        "#import tensorflow_transform as tft \n",
        "import tensorflow_probability as tfp"
      ]
    },
    {
      "cell_type": "markdown",
      "source": [
        "### Overview\n",
        "\n",
        "The homework concerns training and evaluating the calibration of a neural network. It is divided into a small series of exercises: **the maximum mark (for the purpose of the exam) is 5**, but the total sum of points is 5.5, so you are allowed a margin of error. **Completing succesfully everything will result in a mark of 5+**.\n",
        "\n",
        "🟥 The homework must be completed *using TensorFlow*. Do not use NumPy or anything else (with one exception in Exercise 5).\n",
        "\n",
        "Below a brief description of the exercises; please read everything carefully at least once.\n",
        "\n",
        "1.   **Exercise 1** (1 point): training a neural network on the provided dataset.\n",
        "2.   **Exercise 2 and 3** (2 points): draw a *confidence histogram* and a *reliability diagram* (see instructions).\n",
        "3.   **Exercise 4** (0.5 points): compute the *expected calibration error* (ECE).\n",
        "3.   **Exercise 5** (1 point): implement the *multi-class focal loss* and re-check calibration.\n",
        "4.   **Exercise 6** (1 point): implement a simple *conformal prediction* (CP) strategy (see instructions below).\n",
        "\n",
        "\n",
        "\n"
      ],
      "metadata": {
        "id": "BmzKI83R0uYa"
      }
    },
    {
      "cell_type": "markdown",
      "source": [
        "## Data loading\n",
        "\n",
        "The dataset we use is a well-known toy multiclass dataset concerning wine quality: https://archive.ics.uci.edu/ml/datasets/wine+Quality\n",
        "\n",
        "We preprocess the original quality index into three classes (low, medium, and high quality), similarly to this notebook that you can check for more information about the dataset: https://www.kaggle.com/code/mgmarques/wines-type-and-quality-classification-exercises"
      ],
      "metadata": {
        "id": "SE7pCfZK2G5M"
      }
    },
    {
      "cell_type": "code",
      "source": [
        "!wget --quiet https://archive.ics.uci.edu/ml/machine-learning-databases/wine-quality/winequality-white.csv"
      ],
      "metadata": {
        "id": "FpQj4F8n20LI"
      },
      "execution_count": 3,
      "outputs": []
    },
    {
      "cell_type": "code",
      "source": [
        "def load_data():\n",
        "  \"\"\" Load and preprocesses the wine dataset.\n",
        "  Returns:\n",
        "    - X_train, X_test, y_train, y_test [tf.Tensor]: train and test input/output matrices.\n",
        "  \"\"\"\n",
        "  import pandas as pd\n",
        "  from sklearn.model_selection import train_test_split\n",
        "  \n",
        "  data = pd.read_csv('winequality-white.csv', sep=';')\n",
        "  data['quality_label'] = data.quality.apply(lambda q: 0 if q <= 5 else 1 if q <= 7 else 2)\n",
        "  X, y = data.values[:, :-1], data.values[:, -1]\n",
        "  X_train, X_test, y_train, y_test = train_test_split(X, y, stratify=y)\n",
        "  return tf.constant(X_train), tf.constant(y_train), tf.constant(X_test), tf.constant(y_test)"
      ],
      "metadata": {
        "id": "o7CM-ufbTIV7"
      },
      "execution_count": 4,
      "outputs": []
    },
    {
      "cell_type": "code",
      "source": [
        "X_train, y_train, X_test, y_test = load_data()"
      ],
      "metadata": {
        "id": "2q3gb0gcXQ3X"
      },
      "execution_count": 5,
      "outputs": []
    },
    {
      "cell_type": "code",
      "source": [
        "# Check some details about the dataset. You are free to add any additional pre-processing to understand it better.\n",
        "print(f'Shape of X_train: {X_train.shape}')\n",
        "print(f'Shape of y_train: {y_train.shape}')\n",
        "print(f'Number of classes: {tf.reduce_max(y_train) + 1}')"
      ],
      "metadata": {
        "id": "kvOqP6k7XT7R",
        "colab": {
          "base_uri": "https://localhost:8080/"
        },
        "outputId": "779b9dc7-0b8f-4559-e77b-c3afbd0b6932"
      },
      "execution_count": 6,
      "outputs": [
        {
          "output_type": "stream",
          "name": "stdout",
          "text": [
            "Shape of X_train: (3673, 12)\n",
            "Shape of y_train: (3673,)\n",
            "Number of classes: 3.0\n"
          ]
        }
      ]
    },
    {
      "cell_type": "code",
      "source": [
        "#BVQ_done\n",
        "tf.unique_with_counts(y_train,\n",
        "                      out_idx=tf.dtypes.int32,\n",
        "                      name=None)"
      ],
      "metadata": {
        "colab": {
          "base_uri": "https://localhost:8080/"
        },
        "id": "Nns4sCexLK3K",
        "outputId": "319f07cc-d0b6-48bb-d132-f4a76711c4e6"
      },
      "execution_count": 7,
      "outputs": [
        {
          "output_type": "execute_result",
          "data": {
            "text/plain": [
              "UniqueWithCounts(y=<tf.Tensor: shape=(3,), dtype=float64, numpy=array([1., 0., 2.])>, idx=<tf.Tensor: shape=(3673,), dtype=int32, numpy=array([0, 0, 1, ..., 1, 0, 0], dtype=int32)>, count=<tf.Tensor: shape=(3,), dtype=int32, numpy=array([2308, 1230,  135], dtype=int32)>)"
            ]
          },
          "metadata": {},
          "execution_count": 7
        }
      ]
    },
    {
      "cell_type": "markdown",
      "source": [
        "*************\n",
        "We appreciate 2 important things: \n",
        "\n",
        "* Confirm in another way that we're dealing with a multiclass classification problem as we have 3 classes.\n",
        "* The training examples aren't necessarily balanced as we have almost twice   of the training examples of class 2 (2308) than those from class 1 (1230). Additionally, we have just 135 training observations from class 3. This unbalanced number of observations **might** translate into an issue that we must address. \n",
        "*************"
      ],
      "metadata": {
        "id": "EYiZsPTQMLYl"
      }
    },
    {
      "cell_type": "markdown",
      "source": [
        "### Exercise 1: Train a neural network model (1 point)\n",
        "\n",
        "Define, train, and test a neural network for the provided dataset.\n",
        "\n",
        "☝ You are free to make any modelling choice (e.g., activation function), provided the result makes sense.\n",
        "\n",
        "✅ **Completion requirement**: print on screen the test accuracy of the network. Comments are appreciated."
      ],
      "metadata": {
        "id": "5Myy-Aq33upU"
      }
    },
    {
      "cell_type": "code",
      "source": [
        "# TODO: define a suitable neural network.\n",
        "net = "
      ],
      "metadata": {
        "id": "godyFivmXNNf",
        "colab": {
          "base_uri": "https://localhost:8080/",
          "height": 130
        },
        "outputId": "cdd3db70-6a4f-42ab-f691-e414140af552"
      },
      "execution_count": null,
      "outputs": [
        {
          "output_type": "error",
          "ename": "SyntaxError",
          "evalue": "ignored",
          "traceback": [
            "\u001b[0;36m  File \u001b[0;32m\"<ipython-input-8-3f3e10107bb2>\"\u001b[0;36m, line \u001b[0;32m2\u001b[0m\n\u001b[0;31m    net =\u001b[0m\n\u001b[0m          ^\u001b[0m\n\u001b[0;31mSyntaxError\u001b[0m\u001b[0;31m:\u001b[0m invalid syntax\n"
          ]
        }
      ]
    },
    {
      "cell_type": "markdown",
      "source": [
        "### Simplest Network "
      ],
      "metadata": {
        "id": "OtXcCbpZzLZM"
      }
    },
    {
      "cell_type": "code",
      "source": [
        "# BVQ_Done\n",
        "\n",
        "# Simplest neural network possible\n",
        "\n",
        "#from tensorflow import keras\n",
        "\n",
        "#net = keras.Sequential()\n",
        "#net.add(keras.layers.Dense(50, activation=keras.activations.relu))\n",
        "#net.add(keras.layers.Dense(3))\n",
        "\n",
        "#BVQ_Done\n",
        "#net(X_train).shape\n",
        "\n",
        "#BVQ_Done\n",
        "#ypred = net(X_train)\n",
        "\n",
        "#BVQ_Done\n",
        "#tf.reduce_mean(\n",
        "#    keras.losses.sparse_categorical_crossentropy(y_train, ypred, from_logits=True)\n",
        "#)\n",
        "\n",
        "#BVQ_Done\n",
        "#keras.metrics.SparseCategoricalAccuracy()(y_train, ypred)\n",
        "\n",
        "#BVQ_Done\n",
        "#cross_entropy = keras.losses.SparseCategoricalCrossentropy(from_logits=True)\n",
        "#accuracy = keras.metrics.SparseCategoricalAccuracy()\n",
        "#optimizer = keras.optimizers.SGD(learning_rate=0.1)\n",
        "\n",
        "\n",
        "#BVQ_Done\n",
        "#losses = []\n",
        "#accuracies = []\n",
        "\n",
        "# for i in range(5000):\n",
        "\n",
        "#     with tf.GradientTape() as tape:\n",
        "\n",
        "#         ypred = net(X_train)\n",
        "#         loss = cross_entropy(y_train, ypred)\n",
        "\n",
        "#     # --> First difference: we differentiate w.r.t. all variables.\n",
        "#     gradients = tape.gradient(loss, net.trainable_variables)\n",
        "\n",
        "#     # --> We use the optimizer to apply the gradients.\n",
        "#     optimizer.apply_gradients(zip(gradients, net.trainable_variables))\n",
        "\n",
        "#     losses.append(loss.numpy())\n",
        "#     accuracies.append(accuracy(y_train, ypred).numpy())"
      ],
      "metadata": {
        "id": "hBArvBeVmSEV"
      },
      "execution_count": null,
      "outputs": []
    },
    {
      "cell_type": "code",
      "source": [
        "#BVQ_Done\n",
        "plt.plot(losses)"
      ],
      "metadata": {
        "colab": {
          "base_uri": "https://localhost:8080/",
          "height": 282
        },
        "id": "pQjeZGYgp5zv",
        "outputId": "27bfc88f-8303-4143-c013-94733341bbe8"
      },
      "execution_count": null,
      "outputs": [
        {
          "output_type": "execute_result",
          "data": {
            "text/plain": [
              "[<matplotlib.lines.Line2D at 0x7f9f80350a90>]"
            ]
          },
          "metadata": {},
          "execution_count": 14
        },
        {
          "output_type": "display_data",
          "data": {
            "text/plain": [
              "<Figure size 432x288 with 1 Axes>"
            ],
            "image/png": "[encoded data removed]"
          },
          "metadata": {
            "needs_background": "light"
          }
        }
      ]
    },
    {
      "cell_type": "code",
      "source": [
        "#BVQ_Done\n",
        "plt.plot(accuracies)"
      ],
      "metadata": {
        "colab": {
          "base_uri": "https://localhost:8080/",
          "height": 282
        },
        "id": "WXnr7sQQp6bD",
        "outputId": "5814206d-4de3-4b11-fec8-310483dc15f2"
      },
      "execution_count": null,
      "outputs": [
        {
          "output_type": "execute_result",
          "data": {
            "text/plain": [
              "[<matplotlib.lines.Line2D at 0x7f9f801b4f50>]"
            ]
          },
          "metadata": {},
          "execution_count": 15
        },
        {
          "output_type": "display_data",
          "data": {
            "text/plain": [
              "<Figure size 432x288 with 1 Axes>"
            ],
            "image/png": "[encoded data removed]"
          },
          "metadata": {
            "needs_background": "light"
          }
        }
      ]
    },
    {
      "cell_type": "markdown",
      "source": [
        "### 2nd Model - Using more already built-up functions"
      ],
      "metadata": {
        "id": "_Ev4kXNj0AJD"
      }
    },
    {
      "cell_type": "code",
      "source": [
        "#BVQ_Done\n",
        "\n",
        "#Since the last network attains a quite significantly high accuracy\n",
        "#We recreate it but using the already built-up functions\n",
        "#In order to have a more organized code\n",
        "from tensorflow import keras\n",
        "\n",
        "# We set a random seed for replication purporse, although it can be removed\n",
        "#tf.random.set_seed(26)\n",
        "\n",
        "# We define the model \n",
        "net = tf.keras.Sequential([\n",
        "    tf.keras.layers.Dense(100, activation = keras.activations.relu),\n",
        "    tf.keras.layers.Dense(50, activation = keras.activations.relu),\n",
        "    tf.keras.layers.Dense(3, activation = keras.activations.softmax)\n",
        "])\n",
        "\n",
        "net.compile(loss = tf.keras.losses.SparseCategoricalCrossentropy(),\n",
        "            optimizer = tf.keras.optimizers.SGD(learning_rate = 0.01),\n",
        "            metrics = tf.keras.metrics.SparseCategoricalAccuracy()\n",
        ")"
      ],
      "metadata": {
        "id": "SmXgOkY9FPR0"
      },
      "execution_count": 8,
      "outputs": []
    },
    {
      "cell_type": "code",
      "source": [
        "history = net.fit(X_train, y_train, epochs=1000, verbose = 0)"
      ],
      "metadata": {
        "id": "_Xse_0j3FPfc"
      },
      "execution_count": 9,
      "outputs": []
    },
    {
      "cell_type": "code",
      "source": [
        "history"
      ],
      "metadata": {
        "colab": {
          "base_uri": "https://localhost:8080/"
        },
        "id": "-dbBDS48FPkw",
        "outputId": "7ec1591d-8955-4c94-b2be-ca3303250585"
      },
      "execution_count": 10,
      "outputs": [
        {
          "output_type": "execute_result",
          "data": {
            "text/plain": [
              "<keras.callbacks.History at 0x7f4794da2310>"
            ]
          },
          "metadata": {},
          "execution_count": 10
        }
      ]
    },
    {
      "cell_type": "code",
      "source": [
        "net.summary()"
      ],
      "metadata": {
        "colab": {
          "base_uri": "https://localhost:8080/"
        },
        "id": "e8a7Ai8XUZSF",
        "outputId": "2e384f65-0b08-43f8-a581-cabddb33e86b"
      },
      "execution_count": 11,
      "outputs": [
        {
          "output_type": "stream",
          "name": "stdout",
          "text": [
            "Model: \"sequential\"\n",
            "_________________________________________________________________\n",
            " Layer (type)                Output Shape              Param #   \n",
            "=================================================================\n",
            " dense (Dense)               (None, 100)               1300      \n",
            "                                                                 \n",
            " dense_1 (Dense)             (None, 50)                5050      \n",
            "                                                                 \n",
            " dense_2 (Dense)             (None, 3)                 153       \n",
            "                                                                 \n",
            "=================================================================\n",
            "Total params: 6,503\n",
            "Trainable params: 6,503\n",
            "Non-trainable params: 0\n",
            "_________________________________________________________________\n"
          ]
        }
      ]
    },
    {
      "cell_type": "code",
      "source": [
        "# Check the accuracy of our model\n",
        "loss, accuracy = net.evaluate(X_test, y_test)\n",
        "print(f\"Model loss on test set: {loss}\")\n",
        "print(f\"Model accuracy on test set: {(accuracy*100):.2f}%\")"
      ],
      "metadata": {
        "colab": {
          "base_uri": "https://localhost:8080/"
        },
        "id": "ZumgHy0LUybe",
        "outputId": "aea271e9-5415-468b-a302-7c8dcb190b88"
      },
      "execution_count": 12,
      "outputs": [
        {
          "output_type": "stream",
          "name": "stdout",
          "text": [
            "39/39 [==============================] - 1s 3ms/step - loss: 0.6601 - sparse_categorical_accuracy: 0.6824\n",
            "Model loss on test set: 0.6600905656814575\n",
            "Model accuracy on test set: 68.24%\n"
          ]
        }
      ]
    },
    {
      "cell_type": "code",
      "source": [
        "accuracy"
      ],
      "metadata": {
        "colab": {
          "base_uri": "https://localhost:8080/"
        },
        "id": "Xta19UwZckpw",
        "outputId": "ab9333d2-1bc2-4520-c896-1228b53f07a2"
      },
      "execution_count": 13,
      "outputs": [
        {
          "output_type": "execute_result",
          "data": {
            "text/plain": [
              "0.6824489831924438"
            ]
          },
          "metadata": {},
          "execution_count": 13
        }
      ]
    },
    {
      "cell_type": "code",
      "source": [
        "net.evaluate(X_test, y_test)"
      ],
      "metadata": {
        "colab": {
          "base_uri": "https://localhost:8080/"
        },
        "id": "w9lw2TSpuk00",
        "outputId": "928be84a-93be-429a-ff6c-13e26a33f39d"
      },
      "execution_count": 14,
      "outputs": [
        {
          "output_type": "stream",
          "name": "stdout",
          "text": [
            "39/39 [==============================] - 0s 4ms/step - loss: 0.6601 - sparse_categorical_accuracy: 0.6824\n"
          ]
        },
        {
          "output_type": "execute_result",
          "data": {
            "text/plain": [
              "[0.6600905656814575, 0.6824489831924438]"
            ]
          },
          "metadata": {},
          "execution_count": 14
        }
      ]
    },
    {
      "cell_type": "code",
      "source": [
        "my_vect = net.predict(X_test)"
      ],
      "metadata": {
        "colab": {
          "base_uri": "https://localhost:8080/"
        },
        "id": "PJPzynFfvJSj",
        "outputId": "40b047b7-f480-41f7-c7b9-e6cde6a8b8c5"
      },
      "execution_count": 15,
      "outputs": [
        {
          "output_type": "stream",
          "name": "stdout",
          "text": [
            "39/39 [==============================] - 1s 7ms/step\n"
          ]
        }
      ]
    },
    {
      "cell_type": "code",
      "source": [
        "my_vect"
      ],
      "metadata": {
        "colab": {
          "base_uri": "https://localhost:8080/"
        },
        "id": "apWhGoVSj3qZ",
        "outputId": "b229930e-e7a3-4786-fd47-839f6d57e91d"
      },
      "execution_count": 16,
      "outputs": [
        {
          "output_type": "execute_result",
          "data": {
            "text/plain": [
              "array([[1.2098793e-09, 6.4787400e-01, 3.5212594e-01],\n",
              "       [8.3603720e-09, 6.0249454e-01, 3.9750534e-01],\n",
              "       [4.4454707e-10, 3.0085418e-02, 9.6991462e-01],\n",
              "       ...,\n",
              "       [4.0460975e-05, 9.5085716e-01, 4.9102284e-02],\n",
              "       [8.3996347e-05, 9.7604513e-01, 2.3870880e-02],\n",
              "       [6.0355103e-07, 5.8198756e-01, 4.1801184e-01]], dtype=float32)"
            ]
          },
          "metadata": {},
          "execution_count": 16
        }
      ]
    },
    {
      "cell_type": "code",
      "source": [
        "def gather_indexes_f(y_test_inp, predictions):\n",
        "  first = tf.cast(tf.range(0,y_test_inp.shape), tf.int32)\n",
        "  second = tf.cast(tf.constant(tf.argmax(predictions,1)), tf.int32)\n",
        "\n",
        "  return tf.stack([first, second], axis=1)\n",
        "\n",
        "def pred_confidence(predictions, max_indexes):\n",
        "  return tf.gather_nd(predictions,max_indexes)"
      ],
      "metadata": {
        "id": "Aa-3JlsOell-"
      },
      "execution_count": 17,
      "outputs": []
    },
    {
      "cell_type": "code",
      "source": [
        "uyuy = gather_indexes_f(y_test, my_vect)"
      ],
      "metadata": {
        "id": "SP_idO5HiIJO"
      },
      "execution_count": 18,
      "outputs": []
    },
    {
      "cell_type": "code",
      "source": [
        "piou = pred_confidence(my_vect,uyuy)\n",
        "piou"
      ],
      "metadata": {
        "colab": {
          "base_uri": "https://localhost:8080/"
        },
        "id": "YSpIZ379hwiQ",
        "outputId": "22412323-6adb-4bd7-9b5a-120c0a9c03b4"
      },
      "execution_count": 19,
      "outputs": [
        {
          "output_type": "execute_result",
          "data": {
            "text/plain": [
              "<tf.Tensor: shape=(1225,), dtype=float32, numpy=\n",
              "array([0.647874  , 0.60249454, 0.9699146 , ..., 0.95085716, 0.97604513,\n",
              "       0.58198756], dtype=float32)>"
            ]
          },
          "metadata": {},
          "execution_count": 19
        }
      ]
    },
    {
      "cell_type": "code",
      "source": [
        "avg_confidence = np.mean(piou)\n",
        "avg_confidence"
      ],
      "metadata": {
        "colab": {
          "base_uri": "https://localhost:8080/"
        },
        "id": "7brbNAWWivgk",
        "outputId": "9466c84b-2f7f-4c30-b2ae-e71d1c1f35c4"
      },
      "execution_count": 20,
      "outputs": [
        {
          "output_type": "execute_result",
          "data": {
            "text/plain": [
              "0.89007354"
            ]
          },
          "metadata": {},
          "execution_count": 20
        }
      ]
    },
    {
      "cell_type": "code",
      "source": [
        "num_bins = 10\n",
        "bins = tf.linspace(start=0.0, stop=1.0, num=num_bins)\n",
        "print(bins)"
      ],
      "metadata": {
        "colab": {
          "base_uri": "https://localhost:8080/"
        },
        "id": "9hqfgSA7ZD1E",
        "outputId": "aa3767e6-5077-4629-a811-df7bf165b086"
      },
      "execution_count": 21,
      "outputs": [
        {
          "output_type": "stream",
          "name": "stdout",
          "text": [
            "tf.Tensor(\n",
            "[0.         0.11111111 0.22222222 0.33333334 0.44444445 0.5555556\n",
            " 0.6666667  0.7777778  0.8888889  1.        ], shape=(10,), dtype=float32)\n"
          ]
        }
      ]
    },
    {
      "cell_type": "code",
      "source": [
        "plt.hist(piou,bins, histtype ='bar', density = True)\n",
        "plt.title(\"Confidence Histogram\")\n",
        "plt.xlabel(\"Confidence\")\n",
        "plt.ylabel(\"% of Samples\")\n",
        "plt.grid(True, color = \"grey\", linewidth = \"0.5\", linestyle = \"--\")\n",
        "plt.axvline(x=accuracy,color='red', linestyle='--')\n",
        "plt.annotate(\"accuracy\",rotation=90,xy=(accuracy+0.01, 1))\n",
        "plt.axvline(x=avg_confidence,color='red', linestyle='--')\n",
        "plt.annotate(\"confidence\",rotation=90,xy=(avg_confidence+0.01, 1))"
      ],
      "metadata": {
        "colab": {
          "base_uri": "https://localhost:8080/",
          "height": 312
        },
        "id": "EMXHlJujOU0w",
        "outputId": "0e105d13-d4e5-4747-952a-2e210de9822b"
      },
      "execution_count": 22,
      "outputs": [
        {
          "output_type": "execute_result",
          "data": {
            "text/plain": [
              "Text(0.9000735378265381, 1, 'confidence')"
            ]
          },
          "metadata": {},
          "execution_count": 22
        },
        {
          "output_type": "display_data",
          "data": {
            "text/plain": [
              "<Figure size 432x288 with 1 Axes>"
            ],
            "image/png": "[encoded data removed]"
          },
          "metadata": {
            "needs_background": "light"
          }
        }
      ]
    },
    {
      "cell_type": "markdown",
      "source": [
        "# Reliability Plots"
      ],
      "metadata": {
        "id": "GOgrdRS36d3B"
      }
    },
    {
      "cell_type": "code",
      "source": [
        "import tensorflow as tf\n",
        "#1) Needed inputs: \n",
        "num_bins = 10\n",
        "#2) True labels that correspond to the y_test\n",
        "#3) Predicted labels\n",
        "pred_labels = tf.argmax(my_vect, axis=-1) \n",
        "\n",
        "#4) Confidence array which correspond to the highest output probability for each prediction\n",
        "\n",
        "def reliability_preprocess(true_labels, predicted_labels, confidence_array, num_bins = 10):\n",
        "\n",
        "  bin_size = 1.0/num_bins\n",
        "  bins = np.linspace(0.0,1.0,num_bins)\n",
        "\n",
        "  #indices = np.digitize(confidence_array, bins, right= True)\n",
        "  layer = tf.keras.layers.Discretization(bin_boundaries=[0.1, 0.2, 0.3, 0.4, 0.5, 0.6, 0.7, 0.8, 0.9, 1.])\n",
        "  indices = layer(confidence_array)\n",
        "\n",
        "  bin_accuracies = np.zeros(num_bins)#, dtype=np.float) #array for avg accuracies in each bin\n",
        "  bin_confidences = np.zeros(num_bins)#, dtype=np.float) #array for avg confidences in each bin\n",
        "  bin_counts = np.zeros(num_bins)#dtype=np.int) #array counting how many predictions fall on each bin\n",
        "\n",
        "\n",
        "  for b in range(num_bins):\n",
        "    chosen_bin = tf.constant(np.where(indices == b)[0], dtype=tf.int64) #selects all observations that belong to the same bin\n",
        "\n",
        "    #Clause to avoid nan in vectors\n",
        "    if len(chosen_bin)>0:\n",
        "      #compute average accuracy of the bin by comparing the true and predicted labels\n",
        "      bin_accuracies[b] = tf.reduce_mean(tf.cast(tf.equal(tf.cast(tf.gather(true_labels,chosen_bin),tf.int64),tf.gather(predicted_labels,chosen_bin)), tf.float32))\n",
        "    \n",
        "      #compute average confidence of the bin\n",
        "      bin_confidences[b] = tf.reduce_mean(tf.gather(confidence_array,chosen_bin))\n",
        "    \n",
        "      #count how many elements are within each bin\n",
        "      bin_counts[b] = len(chosen_bin)\n",
        "\n",
        "  avg_network_accuracy = np.mean(bin_accuracies)\n",
        "  avg_acc = np.sum(bin_accuracies * bin_counts) / np.sum(bin_counts)\n",
        "  avg_conf = np.sum(bin_confidences * bin_counts) / np.sum(bin_counts)\n",
        "  print(\"Accuracies: \", bin_accuracies)\n",
        "  print(\"Bin counts: \", bin_counts)\n",
        "  print(\"Final result: \", bin_accuracies * bin_counts)\n",
        "\n",
        "  return { \"accuracies\": bin_accuracies, \n",
        "             \"confidences\": bin_confidences, \n",
        "             \"counts\": bin_counts, \n",
        "             \"bins\": bins,\n",
        "             \"avg_accuracy\": avg_acc,\n",
        "             \"avg_confidence\": avg_conf,\n",
        "             #\"expected_calibration_error\": ece,\n",
        "             #\"max_calibration_error\": mce \n",
        "          }"
      ],
      "metadata": {
        "id": "7G8A74qSdr83"
      },
      "execution_count": 62,
      "outputs": []
    },
    {
      "cell_type": "code",
      "source": [
        "xxx = reliability_preprocess(y_test, pred_labels, piou, num_bins = 10)\n",
        "xxx"
      ],
      "metadata": {
        "colab": {
          "base_uri": "https://localhost:8080/"
        },
        "id": "PBjbDV_CsI0A",
        "outputId": "a4d762cb-8a1a-42ce-fabd-dba3022afde1"
      },
      "execution_count": 63,
      "outputs": [
        {
          "output_type": "stream",
          "name": "stdout",
          "text": [
            "Accuracies:  [0.         0.         0.         0.         0.         0.52307695\n",
            " 0.43877551 0.34736842 0.28260869 0.8607918 ]\n",
            "Bin counts:  [  0.   0.   0.   0.   0.  65.  98.  95. 184. 783.]\n",
            "Final result:  [  0.           0.           0.           0.           0.\n",
            "  34.00000185  42.99999994  32.99999982  51.99999857 673.99998128]\n"
          ]
        },
        {
          "output_type": "execute_result",
          "data": {
            "text/plain": [
              "{'accuracies': array([0.        , 0.        , 0.        , 0.        , 0.        ,\n",
              "        0.52307695, 0.43877551, 0.34736842, 0.28260869, 0.8607918 ]),\n",
              " 'confidences': array([0.        , 0.        , 0.        , 0.        , 0.        ,\n",
              "        0.55366343, 0.65036231, 0.75141633, 0.85209721, 0.97374958]),\n",
              " 'counts': array([  0.,   0.,   0.,   0.,   0.,  65.,  98.,  95., 184., 783.]),\n",
              " 'bins': array([0.        , 0.11111111, 0.22222222, 0.33333333, 0.44444444,\n",
              "        0.55555556, 0.66666667, 0.77777778, 0.88888889, 1.        ]),\n",
              " 'avg_accuracy': 0.6824489644595555,\n",
              " 'avg_confidence': 0.8900734591970638}"
            ]
          },
          "metadata": {},
          "execution_count": 63
        }
      ]
    },
    {
      "cell_type": "code",
      "source": [
        "a = xxx['confidences']\n",
        "b = xxx['accuracies']\n",
        "ind = np.arange(0,1,0.1)\n",
        "\n",
        "fig = plt.figure()\n",
        "ax = fig.add_subplot(111)\n",
        "ax.bar(x=ind, height=a, width = 0.1, align='edge', color = \"blue\", edgecolor= 'black')\n",
        "ax.bar(x=ind, height=b, width=0.09,  align='edge', color = \"pink\", alpha = 0.5, edgecolor= 'pink')\n",
        "#ax.axline((1, 1), slope=1)\n",
        "plt.axline((0, 0), slope=1, color=\"black\", linestyle=(0, (5, 5)))\n",
        "#ident = [0.0, 1.0]\n",
        "#plt.plot(ident,ident)\n",
        "ax.set_ylim(0, 1)\n",
        "ax.set_xlim(0, 1)\n",
        "\n",
        "plt.xticks(ind)\n",
        "plt.title(\"Reliability Plot\", size = 16)\n",
        "plt.xlabel(\"Confidence\")\n",
        "plt.ylabel(\"% Accuracy\")\n",
        "\n",
        "plt.tight_layout()\n",
        "plt.show()"
      ],
      "metadata": {
        "colab": {
          "base_uri": "https://localhost:8080/",
          "height": 297
        },
        "id": "xhfI7SoMsM7j",
        "outputId": "383de540-3e26-45d7-bdaf-1d2aef1e35d8"
      },
      "execution_count": 46,
      "outputs": [
        {
          "output_type": "display_data",
          "data": {
            "text/plain": [
              "<Figure size 432x288 with 1 Axes>"
            ],
            "image/png": "[encoded data removed]"
          },
          "metadata": {
            "needs_background": "light"
          }
        }
      ]
    },
    {
      "cell_type": "code",
      "source": [
        "#Test Version\n",
        "\n",
        "\n",
        "import tensorflow as tf\n",
        "#1) Needed inputs: \n",
        "num_bins = 10\n",
        "#2) True labels that correspond to the y_test\n",
        "#3) Predicted labels\n",
        "pred_labels = tf.argmax(my_vect, axis=-1) \n",
        "\n",
        "#4) Confidence array which correspond to the highest output probability for each prediction\n",
        "\n",
        "def reliability_preprocess(true_labels, predicted_labels, confidence_array, num_bins = 10):\n",
        "\n",
        "  bin_size = 1.0/num_bins\n",
        "  bins = np.linspace(0.0,1.0,num_bins)\n",
        "\n",
        "  #indices = np.digitize(confidence_array, bins, right= True)\n",
        "  layer = tf.keras.layers.Discretization(bin_boundaries=[0.1, 0.2, 0.3, 0.4, 0.5, 0.6, 0.7, 0.8, 0.9, 1.])\n",
        "  indices = layer(confidence_array)\n",
        "\n",
        "  bin_accuracies = [] #, dtype=np.float) #array for avg accuracies in each bin\n",
        "  bin_confidences = [] #, dtype=np.float) #array for avg confidences in each bin\n",
        "  bin_counts = [] #dtype=np.int) #array counting how many predictions fall on each bin\n",
        "\n",
        "  for b in range(num_bins):\n",
        "    chosen_bin = tf.constant(tf.experimental.numpy.where(indices == b)[0], dtype=tf.int64) #selects all observations that belong to the same bin\n",
        "\n",
        "    #Clause to avoid nan in vectors\n",
        "    if len(chosen_bin)>0:\n",
        "      #compute average accuracy of the bin by comparing the true and predicted labels\n",
        "      bin_accuracies.append(tf.reduce_mean(tf.cast(tf.equal(tf.cast(tf.gather(true_labels,chosen_bin),tf.int64),tf.gather(predicted_labels,chosen_bin)), tf.float32)))\n",
        "    \n",
        "      #compute average confidence of the bin\n",
        "      bin_confidences.append(tf.reduce_mean(tf.gather(confidence_array,chosen_bin)))\n",
        "    \n",
        "      #count how many elements are within each bin\n",
        "      bin_counts.append(len(chosen_bin))\n",
        "    else:\n",
        "      bin_accuracies.append(0)\n",
        "      bin_confidences.append(0)\n",
        "      bin_counts.append(0)\n",
        "\n",
        "  bin_accuracies_t = tf.stack(bin_accuracies)\n",
        "  bin_confidences_t = tf.stack(bin_confidences)\n",
        "  bin_counts_t = tf.stack(bin_counts)\n",
        "  avg_network_accuracy = tf.reduce_mean(bin_accuracies)\n",
        "  avg_acc = tf.reduce_sum(tf.math.multiply(tf.cast(bin_accuracies,tf.float32), tf.cast(bin_counts,tf.float32))) / tf.cast(tf.reduce_sum(bin_counts),tf.float32)\n",
        "  avg_conf = tf.reduce_sum(tf.math.multiply(tf.cast(bin_confidences,tf.float32), tf.cast(bin_counts,tf.float32))) / tf.cast(tf.reduce_sum(bin_counts),tf.float32)\n",
        "\n",
        "  return { \"accuracies\": bin_accuracies_t, \n",
        "             \"confidences\": bin_confidences_t, \n",
        "             \"counts\": bin_counts_t, \n",
        "             \"bins\": bins,\n",
        "             \"avg_accuracy\": avg_acc,\n",
        "             \"avg_confidence\": avg_conf\n",
        "             #\"expected_calibration_error\": ece,\n",
        "             #\"max_calibration_error\": mce \n",
        "          }"
      ],
      "metadata": {
        "id": "p4aMpiFKpGiB"
      },
      "execution_count": 84,
      "outputs": []
    },
    {
      "cell_type": "code",
      "source": [
        "xxx = reliability_preprocess(y_test, pred_labels, piou, num_bins = 10)"
      ],
      "metadata": {
        "id": "r34yqIhqd5C4"
      },
      "execution_count": 85,
      "outputs": []
    },
    {
      "cell_type": "code",
      "source": [
        "xxx"
      ],
      "metadata": {
        "colab": {
          "base_uri": "https://localhost:8080/"
        },
        "id": "iSB69te19PtQ",
        "outputId": "39e190f5-c80f-42ce-cc8c-e6d4abc8ab49"
      },
      "execution_count": 86,
      "outputs": [
        {
          "output_type": "execute_result",
          "data": {
            "text/plain": [
              "{'accuracies': <tf.Tensor: shape=(10,), dtype=float32, numpy=\n",
              " array([0.        , 0.        , 0.        , 0.        , 0.        ,\n",
              "        0.52307695, 0.4387755 , 0.34736842, 0.2826087 , 0.8607918 ],\n",
              "       dtype=float32)>,\n",
              " 'confidences': <tf.Tensor: shape=(10,), dtype=float32, numpy=\n",
              " array([0.        , 0.        , 0.        , 0.        , 0.        ,\n",
              "        0.55366343, 0.6503623 , 0.7514163 , 0.8520972 , 0.9737496 ],\n",
              "       dtype=float32)>,\n",
              " 'counts': <tf.Tensor: shape=(10,), dtype=int32, numpy=array([  0,   0,   0,   0,   0,  65,  98,  95, 184, 783], dtype=int32)>,\n",
              " 'bins': array([0.        , 0.11111111, 0.22222222, 0.33333333, 0.44444444,\n",
              "        0.55555556, 0.66666667, 0.77777778, 0.88888889, 1.        ]),\n",
              " 'avg_accuracy': <tf.Tensor: shape=(), dtype=float32, numpy=0.682449>,\n",
              " 'avg_confidence': <tf.Tensor: shape=(), dtype=float32, numpy=0.8900734>}"
            ]
          },
          "metadata": {},
          "execution_count": 86
        }
      ]
    },
    {
      "cell_type": "code",
      "source": [
        "a = xxx['confidences']\n",
        "b = xxx['accuracies']\n",
        "ind = np.arange(0,1,0.1)\n",
        "\n",
        "fig = plt.figure()\n",
        "ax = fig.add_subplot(111)\n",
        "ax.bar(x=ind, height=a, width = 0.1, align='edge', color = \"blue\", edgecolor= 'black')\n",
        "ax.bar(x=ind, height=b, width=0.09,  align='edge', color = \"pink\", alpha = 0.5, edgecolor= 'pink')\n",
        "#ax.axline((1, 1), slope=1)\n",
        "plt.axline((0, 0), slope=1, color=\"black\", linestyle=(0, (5, 5)))\n",
        "#ident = [0.0, 1.0]\n",
        "#plt.plot(ident,ident)\n",
        "ax.set_ylim(0, 1)\n",
        "ax.set_xlim(0, 1)\n",
        "\n",
        "plt.xticks(ind)\n",
        "plt.title(\"Reliability Plot\", size = 16)\n",
        "plt.xlabel(\"Confidence\")\n",
        "plt.ylabel(\"% Accuracy\")\n",
        "\n",
        "plt.tight_layout()\n",
        "plt.show()"
      ],
      "metadata": {
        "colab": {
          "base_uri": "https://localhost:8080/",
          "height": 297
        },
        "id": "r3AH9lLmjDTT",
        "outputId": "b5c36653-2286-4898-f146-3aae5fa86c1b"
      },
      "execution_count": 87,
      "outputs": [
        {
          "output_type": "display_data",
          "data": {
            "text/plain": [
              "<Figure size 432x288 with 1 Axes>"
            ],
            "image/png": "[encoded data removed]"
          },
          "metadata": {
            "needs_background": "light"
          }
        }
      ]
    },
    {
      "cell_type": "code",
      "source": [
        "plt.hist(piou,xxx['bins'], histtype ='bar', density = True)\n",
        "plt.title(\"Confidence Histogram\")\n",
        "plt.xlabel(\"Confidence\")\n",
        "plt.ylabel(\"% of Samples\")\n",
        "plt.grid(True, color = \"grey\", linewidth = \"0.5\", linestyle = \"--\")\n",
        "plt.axvline(x=xxx['avg_accuracy'],color='red', linestyle='--')\n",
        "plt.annotate(\"accuracy\",rotation=90,xy=(accuracy+0.01, 1))\n",
        "plt.axvline(x=xxx['avg_confidence'],color='red', linestyle='--')\n",
        "plt.annotate(\"confidence\",rotation=90,xy=(avg_confidence+0.01, 1))"
      ],
      "metadata": {
        "colab": {
          "base_uri": "https://localhost:8080/",
          "height": 312
        },
        "id": "3gnk_-gHJJ4_",
        "outputId": "238f1a4e-94f9-4056-df35-970dd5eecc3f"
      },
      "execution_count": 27,
      "outputs": [
        {
          "output_type": "execute_result",
          "data": {
            "text/plain": [
              "Text(0.9006552791595459, 1, 'confidence')"
            ]
          },
          "metadata": {},
          "execution_count": 27
        },
        {
          "output_type": "display_data",
          "data": {
            "text/plain": [
              "<Figure size 432x288 with 1 Axes>"
            ],
            "image/png": "[encoded data removed]"
          },
          "metadata": {
            "needs_background": "light"
          }
        }
      ]
    },
    {
      "cell_type": "code",
      "source": [],
      "metadata": {
        "id": "dk0-wYU_Xsik"
      },
      "execution_count": null,
      "outputs": []
    },
    {
      "cell_type": "code",
      "source": [],
      "metadata": {
        "id": "sqRDG5ZVXsla"
      },
      "execution_count": null,
      "outputs": []
    },
    {
      "cell_type": "code",
      "source": [],
      "metadata": {
        "id": "Pt255UQ8XsoI"
      },
      "execution_count": null,
      "outputs": []
    },
    {
      "cell_type": "code",
      "source": [],
      "metadata": {
        "id": "8Fq8dZxoXsq5"
      },
      "execution_count": null,
      "outputs": []
    },
    {
      "cell_type": "code",
      "source": [
        "import pandas as pd\n",
        "pd.DataFrame(history.history).plot()\n",
        "plt.title(\"Net Model with SGD - Training Phase\")"
      ],
      "metadata": {
        "colab": {
          "base_uri": "https://localhost:8080/",
          "height": 298
        },
        "id": "yNG4SUfOX3aG",
        "outputId": "de0a8fa3-6e4d-4360-a8df-94bfede9ae08"
      },
      "execution_count": null,
      "outputs": [
        {
          "output_type": "execute_result",
          "data": {
            "text/plain": [
              "Text(0.5, 1.0, 'Net Model with SGD - Training Phase')"
            ]
          },
          "metadata": {},
          "execution_count": 48
        },
        {
          "output_type": "display_data",
          "data": {
            "text/plain": [
              "<Figure size 432x288 with 1 Axes>"
            ],
            "image/png": "[encoded data removed]"
          },
          "metadata": {
            "needs_background": "light"
          }
        }
      ]
    },
    {
      "cell_type": "code",
      "source": [
        "#BVQ_Done\n",
        "\n",
        "#Since the last network attains a quite significantly high accuracy\n",
        "#We recreate it but using the already built-up functions\n",
        "#In order to have a more organized code\n",
        "from tensorflow import keras\n",
        "\n",
        "# We set a random seed for replication purporse, although it can be removed\n",
        "#tf.random.set_seed(26)\n",
        "\n",
        "# We define the model \n",
        "net_adam = tf.keras.Sequential([\n",
        "    tf.keras.layers.Dense(100, activation = keras.activations.relu),\n",
        "    tf.keras.layers.Dense(50, activation = keras.activations.relu),\n",
        "    tf.keras.layers.Dense(3, activation = keras.activations.softmax)\n",
        "])\n",
        "\n",
        "net_adam.compile(loss = tf.keras.losses.SparseCategoricalCrossentropy(),\n",
        "            optimizer = tf.keras.optimizers.Adam(),\n",
        "            metrics = tf.keras.metrics.SparseCategoricalAccuracy()\n",
        ")"
      ],
      "metadata": {
        "id": "aFecXnIy5H8G"
      },
      "execution_count": null,
      "outputs": []
    },
    {
      "cell_type": "code",
      "source": [
        "history_adam = net_adam.fit(X_train, y_train, epochs=1000)"
      ],
      "metadata": {
        "id": "-MdQo4raIrbh"
      },
      "execution_count": null,
      "outputs": []
    },
    {
      "cell_type": "code",
      "source": [
        "pd.DataFrame(history_adam.history).plot()\n",
        "plt.title(\"Net Model with Adam Optimizer - Training Phase\")"
      ],
      "metadata": {
        "colab": {
          "base_uri": "https://localhost:8080/",
          "height": 298
        },
        "id": "3IGp4GuNaE9c",
        "outputId": "f8d8fa4f-b50d-4783-bf3b-261802070b60"
      },
      "execution_count": null,
      "outputs": [
        {
          "output_type": "execute_result",
          "data": {
            "text/plain": [
              "Text(0.5, 1.0, 'Net Model with Adam Optimizer - Training Phase')"
            ]
          },
          "metadata": {},
          "execution_count": 26
        },
        {
          "output_type": "display_data",
          "data": {
            "text/plain": [
              "<Figure size 432x288 with 1 Axes>"
            ],
            "image/png": "[encoded data removed]"
          },
          "metadata": {
            "needs_background": "light"
          }
        }
      ]
    },
    {
      "cell_type": "code",
      "source": [
        "# TODO: train the neural network."
      ],
      "metadata": {
        "id": "PgB37IKKWuhj"
      },
      "execution_count": null,
      "outputs": []
    },
    {
      "cell_type": "code",
      "source": [
        "# TODO: test the neural network and print the result on screen.\n"
      ],
      "metadata": {
        "id": "cJJFyts8Wqez"
      },
      "execution_count": null,
      "outputs": []
    },
    {
      "cell_type": "markdown",
      "source": [
        "### Exercise 2: Confidence histogram of the network (1 point)\n",
        "\n",
        "🟥 Before starting, read carefully at least Sections 1 and 2 of the following paper: [On the calibration of modern neural networks](https://arxiv.org/abs/1706.04599) (which we also discussed in class). We will refer to the paper as (Guo et al., 2017).\n",
        "\n",
        "The purpose of this exercise is to replicate a confidence histogram *computed over the test set*, which is Fig. 1 in (Guo et al., 2017), top-left figure. The plot should include:\n",
        "1. The distribution of the network's confidence (corresponding to **the highest output probability**);\n",
        "2. The average accuracy of the network;\n",
        "3. The average confidence of the network.\n",
        "\n",
        "✅ **Completion requirement**: plot the correct figure. Please include a readable legend and captions on the axes."
      ],
      "metadata": {
        "id": "0i1Jr0mQ7lRY"
      }
    },
    {
      "cell_type": "code",
      "source": [
        "# To start: this is the number of bins for the histogram and the corresponding values. You are free to modify the number of bins.\n",
        "num_bins = 10\n",
        "bins = tf.linspace(start=0.0, stop=1.0, num=num_bins+1)\n",
        "print(bins)"
      ],
      "metadata": {
        "id": "WGeQDlEpJ-3b",
        "colab": {
          "base_uri": "https://localhost:8080/",
          "height": 215
        },
        "outputId": "df32b205-c98f-49b5-f0fe-6ca111d617df"
      },
      "execution_count": null,
      "outputs": [
        {
          "output_type": "error",
          "ename": "NameError",
          "evalue": "ignored",
          "traceback": [
            "\u001b[0;31m---------------------------------------------------------------------------\u001b[0m",
            "\u001b[0;31mNameError\u001b[0m                                 Traceback (most recent call last)",
            "\u001b[0;32m<ipython-input-1-c2d269af9e6b>\u001b[0m in \u001b[0;36m<module>\u001b[0;34m\u001b[0m\n\u001b[1;32m      1\u001b[0m \u001b[0;31m# To start: this is the number of bins for the histogram and the corresponding values. You are free to modify the number of bins.\u001b[0m\u001b[0;34m\u001b[0m\u001b[0;34m\u001b[0m\u001b[0;34m\u001b[0m\u001b[0m\n\u001b[1;32m      2\u001b[0m \u001b[0mnum_bins\u001b[0m \u001b[0;34m=\u001b[0m \u001b[0;36m10\u001b[0m\u001b[0;34m\u001b[0m\u001b[0;34m\u001b[0m\u001b[0m\n\u001b[0;32m----> 3\u001b[0;31m \u001b[0mbins\u001b[0m \u001b[0;34m=\u001b[0m \u001b[0mtf\u001b[0m\u001b[0;34m.\u001b[0m\u001b[0mlinspace\u001b[0m\u001b[0;34m(\u001b[0m\u001b[0mstart\u001b[0m\u001b[0;34m=\u001b[0m\u001b[0;36m0.0\u001b[0m\u001b[0;34m,\u001b[0m \u001b[0mstop\u001b[0m\u001b[0;34m=\u001b[0m\u001b[0;36m1.0\u001b[0m\u001b[0;34m,\u001b[0m \u001b[0mnum\u001b[0m\u001b[0;34m=\u001b[0m\u001b[0mnum_bins\u001b[0m\u001b[0;34m+\u001b[0m\u001b[0;36m1\u001b[0m\u001b[0;34m)\u001b[0m\u001b[0;34m\u001b[0m\u001b[0;34m\u001b[0m\u001b[0m\n\u001b[0m\u001b[1;32m      4\u001b[0m \u001b[0mprint\u001b[0m\u001b[0;34m(\u001b[0m\u001b[0mbins\u001b[0m\u001b[0;34m)\u001b[0m\u001b[0;34m\u001b[0m\u001b[0;34m\u001b[0m\u001b[0m\n",
            "\u001b[0;31mNameError\u001b[0m: name 'tf' is not defined"
          ]
        }
      ]
    },
    {
      "cell_type": "code",
      "source": [
        "# TODO: plot the confidence histogram."
      ],
      "metadata": {
        "id": "o4nEAHpD6dlc"
      },
      "execution_count": null,
      "outputs": []
    },
    {
      "cell_type": "markdown",
      "source": [
        "### Exercise 3: Reliability diagrams (1 point)\n",
        "\n",
        "This is similar to exercise 2, but you need to plot a **reliability diagram**, which is the bottom-left figure in Fig. 1 from (Guo et al., 2017). For this figure you need:\n",
        "\n",
        "1. The histogram of the average accuracy of the network for each bin.\n",
        "2. A superimposed histogram of the average confidence for each bin.\n",
        "3. A diagonal line showing perfect calibration.\n",
        "\n",
        "☝ **Hint**: the `Discretization` layer from TF may be useful: https://www.tensorflow.org/api_docs/python/tf/keras/layers/Discretization\n",
        "\n",
        "🟩 **Completion requirement**: plot the correct figure. Please include a readable legend and captions on the axes.\n"
      ],
      "metadata": {
        "id": "XXUhR5ZH9PKQ"
      }
    },
    {
      "cell_type": "code",
      "source": [
        "input = np.array([[-1.5, 1.0, 3.4, .5], [0.0, 3.0, 1.3, 0.0]])\n",
        "layer = tf.keras.layers.Discretization(bin_boundaries=[0., 1., 2.])\n",
        "layer(input)"
      ],
      "metadata": {
        "colab": {
          "base_uri": "https://localhost:8080/"
        },
        "id": "h59PtZNdAfQG",
        "outputId": "d5f431fa-22cb-4fcf-e906-0dd7f130f6a3"
      },
      "execution_count": null,
      "outputs": [
        {
          "output_type": "execute_result",
          "data": {
            "text/plain": [
              "<tf.Tensor: shape=(2, 4), dtype=int64, numpy=\n",
              "array([[0, 2, 3, 1],\n",
              "       [1, 3, 2, 1]])>"
            ]
          },
          "metadata": {},
          "execution_count": 89
        }
      ]
    },
    {
      "cell_type": "code",
      "source": [
        "# TODO: plot the reliability diagram."
      ],
      "metadata": {
        "id": "rJZBZUFA6POv"
      },
      "execution_count": null,
      "outputs": []
    },
    {
      "cell_type": "markdown",
      "source": [
        "🛑 Before moving to the next exercise, answer (in a short sentence) the following question.\n",
        "\n",
        "**Question**: what does the previous diagrams tell you about the calibration of the neural network?\n",
        "\n",
        "*Write your answer here.*"
      ],
      "metadata": {
        "id": "3QU8G53JAbHr"
      }
    },
    {
      "cell_type": "markdown",
      "source": [
        "### Exercise 4: Expected calibration error, ECE (0.5 points)\n",
        "\n",
        "For this exercise, you need to compute and print on screen the ECE, which is Eq. (3) from (Guo et al., 2017)."
      ],
      "metadata": {
        "id": "pIFUonMOY-Mh"
      }
    },
    {
      "cell_type": "markdown",
      "source": [
        "☝ **Hint(s)**: you should have computed almost everything already for Exercise 3. If you have NaN issues, you may want to check for empty bins.\n",
        "\n",
        "🟩 **Completion requirement**: print the ECE."
      ],
      "metadata": {
        "id": "cFwzYKmnZVGk"
      }
    },
    {
      "cell_type": "code",
      "source": [
        "# TODO: compute and print the ECE for the network."
      ],
      "metadata": {
        "id": "nJdQ6nbp-rIM"
      },
      "execution_count": null,
      "outputs": []
    },
    {
      "cell_type": "markdown",
      "source": [
        "### Exercise 5: Calibrating with the focal loss (1 point)\n",
        "\n",
        "🟥 Before proceeding, read carefully the following paper: [Calibrating Deep Neural Networks using Focal Loss](https://proceedings.neurips.cc/paper/2020/hash/aeb7b30ef1d024a76f21a1d40e30c302-Abstract.html). We'll refer to it as (Mukhoti et al., 2020).\n",
        "\n",
        "The task of this exercise is to train again the neural network from before, using the Focal Loss (Section 4 in (Mukhoti et al., 2020)) instead of the cross-entropy:\n",
        "\n",
        "\\begin{equation}\n",
        "L(y, \\hat{y}) = - (1-\\hat{y}_c)^\\gamma \\log \\hat{y}_c\n",
        "\\end{equation}\n",
        "\n",
        "where $\\hat{y}$ is the vector of predictions from the network, $c$ is the index of the correct class ($y_c == 1$), $\\gamma > 0$ is a hyper-parameter. For $\\gamma=0$, this reduces to the cross-entropy.\n",
        "\n",
        "☝ In order to implement a new loss function in TF, you need to subclass [tf.keras.losses.Loss](https://www.tensorflow.org/api_docs/python/tf/keras/losses/Loss). Read carefully the link.\n",
        "\n",
        "🟩 **Completion requirement**: complete the `FocalLoss` implementation below. Instantiate a new network, train with the new focal loss, and check the resulting confidence histogram, reliability diagram, and ECE.\n"
      ],
      "metadata": {
        "id": "XXSH6o-RBB7x"
      }
    },
    {
      "cell_type": "code",
      "source": [
        "class FocalLoss(tf.keras.losses.Loss):\n",
        "  # TODO: complete implementation"
      ],
      "metadata": {
        "id": "BQrz3fIQ9t6F"
      },
      "execution_count": null,
      "outputs": []
    },
    {
      "cell_type": "code",
      "source": [
        "# TODO: Train a second neural network with the FocalLoss object."
      ],
      "metadata": {
        "id": "PkIvzy9cAW8l"
      },
      "execution_count": null,
      "outputs": []
    },
    {
      "cell_type": "code",
      "source": [
        "# TODO: plot confidence histogram, reliability diagram, and print the ECE of the new network."
      ],
      "metadata": {
        "id": "eTUy2ltU-h6D"
      },
      "execution_count": null,
      "outputs": []
    },
    {
      "cell_type": "markdown",
      "source": [
        "🛑 Before moving to the next exercise, answer (in a short sentence) the following question.\n",
        "\n",
        "**Question**: what can you tell about the calibration of this second neural network?\n",
        "\n",
        "*Write your answer here.*"
      ],
      "metadata": {
        "id": "h0NhYGXGeNyQ"
      }
    },
    {
      "cell_type": "markdown",
      "source": [
        "### Exercise 6: Conformal prediction (1 point)"
      ],
      "metadata": {
        "id": "iKdqI-XMBItw"
      }
    },
    {
      "cell_type": "markdown",
      "source": [
        "🟥 Before proceeding, read **Section 1** from the following paper: [A Gentle Introduction to Conformal Prediction and Distribution-Free Uncertainty Quantification](https://arxiv.org/abs/2107.07511). We'll refer to it as (Angelopoulos and Bates, 2021). Note that this material *was not covered in class*.\n",
        "\n",
        "CP can be understood as an alternative approach to calibration to quantify uncertainty of a model. In CP we take a trained classifier $f(x)$, and we transform it to a set-classifier, i.e., a classifier that outputs a set $\\mathcal{C}(x)$ of possible classes. The set is guaranteed to satisfy:\n",
        "\n",
        "\\begin{equation}\n",
        "P(y \\in \\mathcal{C}(x)) \\ge 1 - \\alpha\n",
        "\\end{equation}\n",
        "\n",
        "where $\\alpha$ is a hyper-parameter called the **error rate**, i.e., the probability that the correct class is inside the set is $1-\\alpha$. For the purpose of this exercise, you need to implement a simple CP procedure which is described in Fig. 2 of (Angelopoulos and Bates, 2021).\n",
        "\n",
        "☝ **Hints**: In practice, you would need a separate validation set. For the purpose of this exercise, you can use the previously defined test set for everything. For computing the **quantile**, you are allowed to use NumPy or TensorFlow Probability.\n",
        "\n",
        "🟩 **Completion requirement**: Replicate the pseudocode from Fig. 2 of (Angelopoulos and Bates, 2021) in TF and apply it on the trained neural network. Plot a histogram showing the distribution of the sizes of the output sets, when the network is run on the entire test set."
      ],
      "metadata": {
        "id": "YUSR_jiGBRrY"
      }
    },
    {
      "cell_type": "code",
      "source": [
        "# Implement the CP procedure"
      ],
      "metadata": {
        "id": "-xdWHDGxQhzs"
      },
      "execution_count": null,
      "outputs": []
    },
    {
      "cell_type": "code",
      "source": [
        "# Plot a histogram of the size of the output set (e.g., check \"Set size\" on page 12 of (Angelopoulos and Bates, 2021))."
      ],
      "metadata": {
        "id": "zODzhdRqalSw"
      },
      "execution_count": null,
      "outputs": []
    },
    {
      "cell_type": "markdown",
      "source": [
        "### Final checklist\n",
        "\n",
        "1. Carefully check all code. Insert comments when needed. Search for \"TODO\" to see if you forgot something.\n",
        "2. Run everything one final time. *Please do not send me notebooks with errors or cells that are not working.*\n",
        "3. Upload the completed notebook **before 14/11/2022 23:59** on the Google Classrom page."
      ],
      "metadata": {
        "id": "GIyU8c7lh4Ly"
      }
    },
    {
      "cell_type": "markdown",
      "source": [
        "### References\n",
        "\n",
        "[1] Guo, C., Pleiss, G., Sun, Y. and Weinberger, K.Q., 2017. [On calibration of modern neural networks](https://arxiv.org/abs/1706.04599). In *ICML* (pp. 1321-1330). PMLR.\n",
        "\n",
        "[2] Mukhoti, J., Kulharia, V., Sanyal, A., Golodetz, S., Torr, P. and Dokania, P., 2020. [Calibrating deep neural networks using focal loss](https://proceedings.neurips.cc/paper/2020/hash/aeb7b30ef1d024a76f21a1d40e30c302-Abstract.html). In *Advances in Neural Information Processing Systems*, 33, pp. 15288-15299.\n",
        "\n",
        "[3] Angelopoulos, A.N. and Bates, S., 2021. [A gentle introduction to conformal prediction and distribution-free uncertainty quantification](https://arxiv.org/abs/2107.07511). *arXiv preprint arXiv:2107.07511*."
      ],
      "metadata": {
        "id": "wLr5su2Nh9Gw"
      }
    }
  ]
}